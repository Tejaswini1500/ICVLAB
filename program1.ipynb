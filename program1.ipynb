{
 "cells": [
  {
   "cell_type": "code",
   "execution_count": 24,
   "id": "acc30a01-c514-4dc4-8f79-a63d0a8c079a",
   "metadata": {},
   "outputs": [],
   "source": [
    "import cv2\n",
    "\n",
    "image_path = 'Downloads/Artboard_Copy_231.jpg'\n",
    "img = cv2.imread(image_path)\n",
    "cv2.imshow('Image', img)\n",
    "cv2.waitKey(0)\n",
    "cv2.destroyAllWindows()\n"
   ]
  },
  {
   "cell_type": "code",
   "execution_count": 39,
   "id": "ee0ac8e6-b154-404d-b5d2-2dbc7e492c4d",
   "metadata": {},
   "outputs": [],
   "source": [
    "import numpy as np\n",
    "\n",
    "import numpy as np\n",
    "import cv2\n",
    "\n",
    "image_path = 'Downloads/Artboard_Copy_231.jpg'\n",
    "img = cv2.imread(image_path)\n",
    "\n",
    "kernel_25 = np.ones((100,100), np.float32) / 625.0\n",
    "output_kernel = cv2.filter2D(img, -1, kernel_25)\n",
    "cv2.imshow('Output', output_kernel)\n",
    "cv2.waitKey(0)\n",
    "cv2.destroyAllWindows()"
   ]
  },
  {
   "cell_type": "code",
   "execution_count": 30,
   "id": "3d366f6a-6921-4756-b41f-ca9fe3924322",
   "metadata": {},
   "outputs": [],
   "source": [
    "output_blur = cv2.blur(img, (20,20))\n",
    "output_box = cv2.boxFilter(img, -1, (20,20))\n",
    "\n",
    "cv2.imshow('Blurred Image', output_blur)\n",
    "cv2.imshow('Box Filtered Image', output_box)\n",
    "cv2.waitKey(0)\n",
    "cv2.destroyAllWindows()"
   ]
  },
  {
   "cell_type": "code",
   "execution_count": 38,
   "id": "f0d2410a-b1ad-4b95-9a6d-07bb4ab0b8f7",
   "metadata": {},
   "outputs": [],
   "source": [
    "output_gaus = cv2.GaussianBlur(img, (5,5), 10)\n",
    "\n",
    "cv2.imshow('Gaussian Blur', output_gaus)\n",
    "cv2.waitKey(0)\n",
    "cv2.destroyAllWindows()"
   ]
  },
  {
   "cell_type": "code",
   "execution_count": 15,
   "id": "230ea418-e5fe-4cca-bdb3-adb1936bb866",
   "metadata": {},
   "outputs": [],
   "source": [
    "\n",
    "output_med = cv2.medianBlur(img, 5)\n",
    "\n",
    "cv2.imshow('Median Blur', output_med)\n",
    "cv2.waitKey(0)\n",
    "cv2.destroyAllWindows()"
   ]
  },
  {
   "cell_type": "code",
   "execution_count": 41,
   "id": "4b60205c-46b2-4eac-bc7a-1d2b54aa8056",
   "metadata": {},
   "outputs": [],
   "source": [
    "\n",
    "output_bil = cv2.bilateralFilter(img, 5, 6, 6)\n",
    "cv2.imshow('Bilateral Filter', output_bil)\n",
    "\n",
    "# Assuming you have defined output_kernel, output_blur, output_box, output_gaus, and output_med\n",
    "cv2.imshow('Kernel', output_kernel)\n",
    "cv2.imshow('Blur', output_blur)\n",
    "cv2.imshow('Box', output_box)\n",
    "cv2.imshow('Gaussian Blur', output_gaus)\n",
    "cv2.imshow('Median Blur', output_med)\n",
    "\n",
    "cv2.waitKey(0)\n",
    "cv2.destroyAllWindows()\n"
   ]
  },
  {
   "cell_type": "code",
   "execution_count": null,
   "id": "413cbbca-014d-4f2e-81a0-6bf5850feade",
   "metadata": {},
   "outputs": [],
   "source": []
  }
 ],
 "metadata": {
  "kernelspec": {
   "display_name": "Python 3 (ipykernel)",
   "language": "python",
   "name": "python3"
  },
  "language_info": {
   "codemirror_mode": {
    "name": "ipython",
    "version": 3
   },
   "file_extension": ".py",
   "mimetype": "text/x-python",
   "name": "python",
   "nbconvert_exporter": "python",
   "pygments_lexer": "ipython3",
   "version": "3.11.7"
  }
 },
 "nbformat": 4,
 "nbformat_minor": 5
}
